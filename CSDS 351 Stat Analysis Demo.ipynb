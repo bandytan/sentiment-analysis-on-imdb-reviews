{
 "cells": [
  {
   "cell_type": "code",
   "execution_count": 1,
   "id": "c1c919e9",
   "metadata": {},
   "outputs": [],
   "source": [
    "import pandas as pd\n",
    "from scipy import stats\n",
    "from sklearn import datasets, linear_model\n",
    "import matplotlib.pyplot as plt"
   ]
  },
  {
   "cell_type": "markdown",
   "id": "ef4a6465",
   "metadata": {},
   "source": [
    "# Ingestion"
   ]
  },
  {
   "cell_type": "code",
   "execution_count": 2,
   "id": "a208f1c9",
   "metadata": {},
   "outputs": [],
   "source": [
    "movie1_temp = pd.read_csv('movie1.csv')\n",
    "movie2_temp = pd.read_csv('movie2.csv')\n",
    "movie3_temp = pd.read_csv('movie3.csv')"
   ]
  },
  {
   "cell_type": "markdown",
   "id": "11ba090d",
   "metadata": {},
   "source": [
    "# Cleaning"
   ]
  },
  {
   "cell_type": "code",
   "execution_count": 3,
   "id": "2ef5426e",
   "metadata": {},
   "outputs": [],
   "source": [
    "movie1 = movie1_temp[['rating','review_polarity']]\n",
    "movie2 = movie2_temp[['rating','review_polarity']]\n",
    "movie3 = movie3_temp[['rating','review_polarity']]"
   ]
  },
  {
   "cell_type": "code",
   "execution_count": 4,
   "id": "455e4225",
   "metadata": {},
   "outputs": [
    {
     "data": {
      "text/html": [
       "<div>\n",
       "<style scoped>\n",
       "    .dataframe tbody tr th:only-of-type {\n",
       "        vertical-align: middle;\n",
       "    }\n",
       "\n",
       "    .dataframe tbody tr th {\n",
       "        vertical-align: top;\n",
       "    }\n",
       "\n",
       "    .dataframe thead th {\n",
       "        text-align: right;\n",
       "    }\n",
       "</style>\n",
       "<table border=\"1\" class=\"dataframe\">\n",
       "  <thead>\n",
       "    <tr style=\"text-align: right;\">\n",
       "      <th></th>\n",
       "      <th>rating</th>\n",
       "      <th>review_polarity</th>\n",
       "    </tr>\n",
       "  </thead>\n",
       "  <tbody>\n",
       "    <tr>\n",
       "      <th>0</th>\n",
       "      <td>0.333333</td>\n",
       "      <td>0.139286</td>\n",
       "    </tr>\n",
       "    <tr>\n",
       "      <th>1</th>\n",
       "      <td>-0.111111</td>\n",
       "      <td>0.103823</td>\n",
       "    </tr>\n",
       "    <tr>\n",
       "      <th>2</th>\n",
       "      <td>-0.111111</td>\n",
       "      <td>0.054675</td>\n",
       "    </tr>\n",
       "    <tr>\n",
       "      <th>3</th>\n",
       "      <td>-0.111111</td>\n",
       "      <td>0.024167</td>\n",
       "    </tr>\n",
       "    <tr>\n",
       "      <th>4</th>\n",
       "      <td>0.333333</td>\n",
       "      <td>0.077841</td>\n",
       "    </tr>\n",
       "    <tr>\n",
       "      <th>...</th>\n",
       "      <td>...</td>\n",
       "      <td>...</td>\n",
       "    </tr>\n",
       "    <tr>\n",
       "      <th>723</th>\n",
       "      <td>0.555556</td>\n",
       "      <td>0.034192</td>\n",
       "    </tr>\n",
       "    <tr>\n",
       "      <th>724</th>\n",
       "      <td>0.333333</td>\n",
       "      <td>0.067839</td>\n",
       "    </tr>\n",
       "    <tr>\n",
       "      <th>725</th>\n",
       "      <td>0.333333</td>\n",
       "      <td>0.128371</td>\n",
       "    </tr>\n",
       "    <tr>\n",
       "      <th>726</th>\n",
       "      <td>0.555556</td>\n",
       "      <td>0.210178</td>\n",
       "    </tr>\n",
       "    <tr>\n",
       "      <th>727</th>\n",
       "      <td>0.333333</td>\n",
       "      <td>0.047489</td>\n",
       "    </tr>\n",
       "  </tbody>\n",
       "</table>\n",
       "<p>728 rows × 2 columns</p>\n",
       "</div>"
      ],
      "text/plain": [
       "       rating  review_polarity\n",
       "0    0.333333         0.139286\n",
       "1   -0.111111         0.103823\n",
       "2   -0.111111         0.054675\n",
       "3   -0.111111         0.024167\n",
       "4    0.333333         0.077841\n",
       "..        ...              ...\n",
       "723  0.555556         0.034192\n",
       "724  0.333333         0.067839\n",
       "725  0.333333         0.128371\n",
       "726  0.555556         0.210178\n",
       "727  0.333333         0.047489\n",
       "\n",
       "[728 rows x 2 columns]"
      ]
     },
     "execution_count": 4,
     "metadata": {},
     "output_type": "execute_result"
    }
   ],
   "source": [
    "movie1"
   ]
  },
  {
   "cell_type": "code",
   "execution_count": 5,
   "id": "a5fdf0c5",
   "metadata": {},
   "outputs": [
    {
     "data": {
      "text/html": [
       "<div>\n",
       "<style scoped>\n",
       "    .dataframe tbody tr th:only-of-type {\n",
       "        vertical-align: middle;\n",
       "    }\n",
       "\n",
       "    .dataframe tbody tr th {\n",
       "        vertical-align: top;\n",
       "    }\n",
       "\n",
       "    .dataframe thead th {\n",
       "        text-align: right;\n",
       "    }\n",
       "</style>\n",
       "<table border=\"1\" class=\"dataframe\">\n",
       "  <thead>\n",
       "    <tr style=\"text-align: right;\">\n",
       "      <th></th>\n",
       "      <th>rating</th>\n",
       "      <th>review_polarity</th>\n",
       "    </tr>\n",
       "  </thead>\n",
       "  <tbody>\n",
       "    <tr>\n",
       "      <th>0</th>\n",
       "      <td>1.000000</td>\n",
       "      <td>0.135294</td>\n",
       "    </tr>\n",
       "    <tr>\n",
       "      <th>1</th>\n",
       "      <td>0.777778</td>\n",
       "      <td>0.408095</td>\n",
       "    </tr>\n",
       "    <tr>\n",
       "      <th>2</th>\n",
       "      <td>0.777778</td>\n",
       "      <td>0.398857</td>\n",
       "    </tr>\n",
       "    <tr>\n",
       "      <th>3</th>\n",
       "      <td>1.000000</td>\n",
       "      <td>0.518627</td>\n",
       "    </tr>\n",
       "    <tr>\n",
       "      <th>4</th>\n",
       "      <td>1.000000</td>\n",
       "      <td>0.084910</td>\n",
       "    </tr>\n",
       "    <tr>\n",
       "      <th>...</th>\n",
       "      <td>...</td>\n",
       "      <td>...</td>\n",
       "    </tr>\n",
       "    <tr>\n",
       "      <th>471</th>\n",
       "      <td>0.777778</td>\n",
       "      <td>0.353750</td>\n",
       "    </tr>\n",
       "    <tr>\n",
       "      <th>472</th>\n",
       "      <td>1.000000</td>\n",
       "      <td>0.515333</td>\n",
       "    </tr>\n",
       "    <tr>\n",
       "      <th>473</th>\n",
       "      <td>0.555556</td>\n",
       "      <td>0.193421</td>\n",
       "    </tr>\n",
       "    <tr>\n",
       "      <th>474</th>\n",
       "      <td>0.555556</td>\n",
       "      <td>0.092170</td>\n",
       "    </tr>\n",
       "    <tr>\n",
       "      <th>475</th>\n",
       "      <td>0.777778</td>\n",
       "      <td>0.280000</td>\n",
       "    </tr>\n",
       "  </tbody>\n",
       "</table>\n",
       "<p>476 rows × 2 columns</p>\n",
       "</div>"
      ],
      "text/plain": [
       "       rating  review_polarity\n",
       "0    1.000000         0.135294\n",
       "1    0.777778         0.408095\n",
       "2    0.777778         0.398857\n",
       "3    1.000000         0.518627\n",
       "4    1.000000         0.084910\n",
       "..        ...              ...\n",
       "471  0.777778         0.353750\n",
       "472  1.000000         0.515333\n",
       "473  0.555556         0.193421\n",
       "474  0.555556         0.092170\n",
       "475  0.777778         0.280000\n",
       "\n",
       "[476 rows x 2 columns]"
      ]
     },
     "execution_count": 5,
     "metadata": {},
     "output_type": "execute_result"
    }
   ],
   "source": [
    "movie2"
   ]
  },
  {
   "cell_type": "code",
   "execution_count": 6,
   "id": "5ed90c40",
   "metadata": {},
   "outputs": [
    {
     "data": {
      "text/html": [
       "<div>\n",
       "<style scoped>\n",
       "    .dataframe tbody tr th:only-of-type {\n",
       "        vertical-align: middle;\n",
       "    }\n",
       "\n",
       "    .dataframe tbody tr th {\n",
       "        vertical-align: top;\n",
       "    }\n",
       "\n",
       "    .dataframe thead th {\n",
       "        text-align: right;\n",
       "    }\n",
       "</style>\n",
       "<table border=\"1\" class=\"dataframe\">\n",
       "  <thead>\n",
       "    <tr style=\"text-align: right;\">\n",
       "      <th></th>\n",
       "      <th>rating</th>\n",
       "      <th>review_polarity</th>\n",
       "    </tr>\n",
       "  </thead>\n",
       "  <tbody>\n",
       "    <tr>\n",
       "      <th>0</th>\n",
       "      <td>1.000000</td>\n",
       "      <td>0.203678</td>\n",
       "    </tr>\n",
       "    <tr>\n",
       "      <th>1</th>\n",
       "      <td>1.000000</td>\n",
       "      <td>0.109524</td>\n",
       "    </tr>\n",
       "    <tr>\n",
       "      <th>2</th>\n",
       "      <td>0.777778</td>\n",
       "      <td>0.091697</td>\n",
       "    </tr>\n",
       "    <tr>\n",
       "      <th>3</th>\n",
       "      <td>1.000000</td>\n",
       "      <td>0.177669</td>\n",
       "    </tr>\n",
       "    <tr>\n",
       "      <th>4</th>\n",
       "      <td>1.000000</td>\n",
       "      <td>0.279818</td>\n",
       "    </tr>\n",
       "    <tr>\n",
       "      <th>...</th>\n",
       "      <td>...</td>\n",
       "      <td>...</td>\n",
       "    </tr>\n",
       "    <tr>\n",
       "      <th>1396</th>\n",
       "      <td>1.000000</td>\n",
       "      <td>0.068316</td>\n",
       "    </tr>\n",
       "    <tr>\n",
       "      <th>1397</th>\n",
       "      <td>0.777778</td>\n",
       "      <td>0.111343</td>\n",
       "    </tr>\n",
       "    <tr>\n",
       "      <th>1398</th>\n",
       "      <td>1.000000</td>\n",
       "      <td>0.242308</td>\n",
       "    </tr>\n",
       "    <tr>\n",
       "      <th>1399</th>\n",
       "      <td>0.777778</td>\n",
       "      <td>0.471429</td>\n",
       "    </tr>\n",
       "    <tr>\n",
       "      <th>1400</th>\n",
       "      <td>1.000000</td>\n",
       "      <td>0.233862</td>\n",
       "    </tr>\n",
       "  </tbody>\n",
       "</table>\n",
       "<p>1401 rows × 2 columns</p>\n",
       "</div>"
      ],
      "text/plain": [
       "        rating  review_polarity\n",
       "0     1.000000         0.203678\n",
       "1     1.000000         0.109524\n",
       "2     0.777778         0.091697\n",
       "3     1.000000         0.177669\n",
       "4     1.000000         0.279818\n",
       "...        ...              ...\n",
       "1396  1.000000         0.068316\n",
       "1397  0.777778         0.111343\n",
       "1398  1.000000         0.242308\n",
       "1399  0.777778         0.471429\n",
       "1400  1.000000         0.233862\n",
       "\n",
       "[1401 rows x 2 columns]"
      ]
     },
     "execution_count": 6,
     "metadata": {},
     "output_type": "execute_result"
    }
   ],
   "source": [
    "movie3"
   ]
  },
  {
   "cell_type": "code",
   "execution_count": 7,
   "id": "18c9d659",
   "metadata": {},
   "outputs": [],
   "source": [
    "movies = pd.concat([movie1, movie2, movie3], axis = 0)"
   ]
  },
  {
   "cell_type": "code",
   "execution_count": 8,
   "id": "dfff32de",
   "metadata": {},
   "outputs": [
    {
     "data": {
      "text/html": [
       "<div>\n",
       "<style scoped>\n",
       "    .dataframe tbody tr th:only-of-type {\n",
       "        vertical-align: middle;\n",
       "    }\n",
       "\n",
       "    .dataframe tbody tr th {\n",
       "        vertical-align: top;\n",
       "    }\n",
       "\n",
       "    .dataframe thead th {\n",
       "        text-align: right;\n",
       "    }\n",
       "</style>\n",
       "<table border=\"1\" class=\"dataframe\">\n",
       "  <thead>\n",
       "    <tr style=\"text-align: right;\">\n",
       "      <th></th>\n",
       "      <th>rating</th>\n",
       "      <th>review_polarity</th>\n",
       "    </tr>\n",
       "  </thead>\n",
       "  <tbody>\n",
       "    <tr>\n",
       "      <th>0</th>\n",
       "      <td>0.333333</td>\n",
       "      <td>0.139286</td>\n",
       "    </tr>\n",
       "    <tr>\n",
       "      <th>1</th>\n",
       "      <td>-0.111111</td>\n",
       "      <td>0.103823</td>\n",
       "    </tr>\n",
       "    <tr>\n",
       "      <th>2</th>\n",
       "      <td>-0.111111</td>\n",
       "      <td>0.054675</td>\n",
       "    </tr>\n",
       "    <tr>\n",
       "      <th>3</th>\n",
       "      <td>-0.111111</td>\n",
       "      <td>0.024167</td>\n",
       "    </tr>\n",
       "    <tr>\n",
       "      <th>4</th>\n",
       "      <td>0.333333</td>\n",
       "      <td>0.077841</td>\n",
       "    </tr>\n",
       "    <tr>\n",
       "      <th>...</th>\n",
       "      <td>...</td>\n",
       "      <td>...</td>\n",
       "    </tr>\n",
       "    <tr>\n",
       "      <th>1396</th>\n",
       "      <td>1.000000</td>\n",
       "      <td>0.068316</td>\n",
       "    </tr>\n",
       "    <tr>\n",
       "      <th>1397</th>\n",
       "      <td>0.777778</td>\n",
       "      <td>0.111343</td>\n",
       "    </tr>\n",
       "    <tr>\n",
       "      <th>1398</th>\n",
       "      <td>1.000000</td>\n",
       "      <td>0.242308</td>\n",
       "    </tr>\n",
       "    <tr>\n",
       "      <th>1399</th>\n",
       "      <td>0.777778</td>\n",
       "      <td>0.471429</td>\n",
       "    </tr>\n",
       "    <tr>\n",
       "      <th>1400</th>\n",
       "      <td>1.000000</td>\n",
       "      <td>0.233862</td>\n",
       "    </tr>\n",
       "  </tbody>\n",
       "</table>\n",
       "<p>2605 rows × 2 columns</p>\n",
       "</div>"
      ],
      "text/plain": [
       "        rating  review_polarity\n",
       "0     0.333333         0.139286\n",
       "1    -0.111111         0.103823\n",
       "2    -0.111111         0.054675\n",
       "3    -0.111111         0.024167\n",
       "4     0.333333         0.077841\n",
       "...        ...              ...\n",
       "1396  1.000000         0.068316\n",
       "1397  0.777778         0.111343\n",
       "1398  1.000000         0.242308\n",
       "1399  0.777778         0.471429\n",
       "1400  1.000000         0.233862\n",
       "\n",
       "[2605 rows x 2 columns]"
      ]
     },
     "execution_count": 8,
     "metadata": {},
     "output_type": "execute_result"
    }
   ],
   "source": [
    "movies"
   ]
  },
  {
   "cell_type": "markdown",
   "id": "20c72258",
   "metadata": {},
   "source": [
    "# Pearson's Correlation\n",
    "\n",
    "Pearson's Correlation from scipy stats library returns the left value as the Pearson's Coefficient where the closer to 1, the more linearly direct the relationship is and the closer to -1, the more linearly inverse the relationship is.\n",
    "\n",
    "The right value is the 2 tailed p-value which indicates how significant the results are. Under 0.05 is considered significant.\n",
    "\n",
    "The closer the Pearson's value is to 1, the more closely positively related user reviews polarity score and star ratings are."
   ]
  },
  {
   "cell_type": "markdown",
   "id": "52cc69dc",
   "metadata": {},
   "source": [
    "## Movie 1"
   ]
  },
  {
   "cell_type": "code",
   "execution_count": 9,
   "id": "5e411f61",
   "metadata": {},
   "outputs": [
    {
     "data": {
      "text/plain": [
       "(0.4720464720588633, 1.1298761922672464e-41)"
      ]
     },
     "execution_count": 9,
     "metadata": {},
     "output_type": "execute_result"
    }
   ],
   "source": [
    "# (Pearson’s correlation coefficient, 2-tailed p-value)\n",
    "stats.pearsonr(movie1['rating'], movie1['review_polarity'])"
   ]
  },
  {
   "cell_type": "markdown",
   "id": "046bd483",
   "metadata": {},
   "source": [
    "Moderate positive correlation with significant results"
   ]
  },
  {
   "cell_type": "markdown",
   "id": "23597be3",
   "metadata": {},
   "source": [
    "## Movie 2"
   ]
  },
  {
   "cell_type": "code",
   "execution_count": 10,
   "id": "7e3cace8",
   "metadata": {},
   "outputs": [
    {
     "data": {
      "text/plain": [
       "(0.5001949117536175, 1.6778434350525815e-31)"
      ]
     },
     "execution_count": 10,
     "metadata": {},
     "output_type": "execute_result"
    }
   ],
   "source": [
    "# (Pearson’s correlation coefficient, 2-tailed p-value)\n",
    "stats.pearsonr(movie2['rating'], movie2['review_polarity'])"
   ]
  },
  {
   "cell_type": "markdown",
   "id": "1aa80e8c",
   "metadata": {},
   "source": [
    "Moderate positive correlation with significant results."
   ]
  },
  {
   "cell_type": "markdown",
   "id": "adf3d82e",
   "metadata": {},
   "source": [
    "## Movie 3"
   ]
  },
  {
   "cell_type": "code",
   "execution_count": 11,
   "id": "b7efef5e",
   "metadata": {},
   "outputs": [
    {
     "data": {
      "text/plain": [
       "(0.2300576908814342, 2.767647756846108e-18)"
      ]
     },
     "execution_count": 11,
     "metadata": {},
     "output_type": "execute_result"
    }
   ],
   "source": [
    "# (Pearson’s correlation coefficient, 2-tailed p-value)\n",
    "stats.pearsonr(movie3['rating'], movie3['review_polarity'])"
   ]
  },
  {
   "cell_type": "markdown",
   "id": "5eca7268",
   "metadata": {},
   "source": [
    "Weak positive correlation with significant results."
   ]
  },
  {
   "cell_type": "markdown",
   "id": "191975f0",
   "metadata": {},
   "source": [
    "## All Movies Combined\n",
    "Provides an overall analysis of the star ratings relationship with polarity of user reviews"
   ]
  },
  {
   "cell_type": "code",
   "execution_count": 12,
   "id": "4ff8193d",
   "metadata": {},
   "outputs": [
    {
     "data": {
      "text/plain": [
       "(0.38938647047605274, 4.5927373449087166e-95)"
      ]
     },
     "execution_count": 12,
     "metadata": {},
     "output_type": "execute_result"
    }
   ],
   "source": [
    "stats.pearsonr(movies['rating'], movies['review_polarity'])"
   ]
  },
  {
   "cell_type": "markdown",
   "id": "995248e3",
   "metadata": {},
   "source": [
    "Moderate positive correlation with signficant results."
   ]
  },
  {
   "cell_type": "markdown",
   "id": "dc3228eb",
   "metadata": {},
   "source": [
    "# Linear Regression"
   ]
  },
  {
   "cell_type": "markdown",
   "id": "af9d500c",
   "metadata": {},
   "source": [
    "Predict the rating from the user review using linear regression."
   ]
  },
  {
   "cell_type": "markdown",
   "id": "08bfd54c",
   "metadata": {},
   "source": [
    "## Movie 1"
   ]
  },
  {
   "cell_type": "code",
   "execution_count": 13,
   "id": "738c66a2",
   "metadata": {},
   "outputs": [
    {
     "data": {
      "text/plain": [
       "LinearRegression()"
      ]
     },
     "execution_count": 13,
     "metadata": {},
     "output_type": "execute_result"
    }
   ],
   "source": [
    "regr = linear_model.LinearRegression()\n",
    "rating1 = movie1.rating.values.reshape(-1, 1)\n",
    "polarity1 = movie1.review_polarity.values.reshape(-1, 1)\n",
    "regr.fit(rating1,polarity1)"
   ]
  },
  {
   "cell_type": "code",
   "execution_count": 14,
   "id": "f54d1a80",
   "metadata": {},
   "outputs": [
    {
     "data": {
      "image/png": "[encoded data removed]",
      "text/plain": [
       "<Figure size 432x288 with 1 Axes>"
      ]
     },
     "metadata": {},
     "output_type": "display_data"
    }
   ],
   "source": [
    "plt.scatter(rating1, polarity1,  color='black')\n",
    "plt.plot(rating1, regr.predict(rating1), color='blue', linewidth=3)\n",
    "plt.xticks(())\n",
    "plt.yticks(())\n",
    "plt.show()"
   ]
  },
  {
   "cell_type": "markdown",
   "id": "2c1295a3",
   "metadata": {},
   "source": [
    "## Movie 2"
   ]
  },
  {
   "cell_type": "code",
   "execution_count": 15,
   "id": "8a9da3fc",
   "metadata": {},
   "outputs": [
    {
     "data": {
      "text/plain": [
       "LinearRegression()"
      ]
     },
     "execution_count": 15,
     "metadata": {},
     "output_type": "execute_result"
    }
   ],
   "source": [
    "regr = linear_model.LinearRegression()\n",
    "rating2 = movie2.rating.values.reshape(-1, 1)\n",
    "polarity2 = movie2.review_polarity.values.reshape(-1, 1)\n",
    "regr.fit(rating2,polarity2)"
   ]
  },
  {
   "cell_type": "code",
   "execution_count": 16,
   "id": "185a1b03",
   "metadata": {},
   "outputs": [
    {
     "data": {
      "image/png": "[encoded data removed]",
      "text/plain": [
       "<Figure size 432x288 with 1 Axes>"
      ]
     },
     "metadata": {},
     "output_type": "display_data"
    }
   ],
   "source": [
    "plt.scatter(rating2, polarity2,  color='black')\n",
    "plt.plot(rating2, regr.predict(rating2), color='blue', linewidth=3)\n",
    "plt.xticks(())\n",
    "plt.yticks(())\n",
    "plt.show()"
   ]
  },
  {
   "cell_type": "markdown",
   "id": "60bc80de",
   "metadata": {},
   "source": [
    "## Movie 3"
   ]
  },
  {
   "cell_type": "code",
   "execution_count": 17,
   "id": "4e6604e2",
   "metadata": {},
   "outputs": [
    {
     "data": {
      "text/plain": [
       "LinearRegression()"
      ]
     },
     "execution_count": 17,
     "metadata": {},
     "output_type": "execute_result"
    }
   ],
   "source": [
    "regr = linear_model.LinearRegression()\n",
    "rating3 = movie3.rating.values.reshape(-1, 1)\n",
    "polarity3 = movie3.review_polarity.values.reshape(-1, 1)\n",
    "regr.fit(rating3,polarity3)"
   ]
  },
  {
   "cell_type": "code",
   "execution_count": 18,
   "id": "1492d896",
   "metadata": {},
   "outputs": [
    {
     "data": {
      "image/png": "[encoded data removed]",
      "text/plain": [
       "<Figure size 432x288 with 1 Axes>"
      ]
     },
     "metadata": {},
     "output_type": "display_data"
    }
   ],
   "source": [
    "plt.scatter(rating3, polarity3,  color='black')\n",
    "plt.plot(rating3, regr.predict(rating3), color='blue', linewidth=3)\n",
    "plt.xticks(())\n",
    "plt.yticks(())\n",
    "plt.show()"
   ]
  },
  {
   "cell_type": "markdown",
   "id": "126516fa",
   "metadata": {},
   "source": [
    "## All Movies"
   ]
  },
  {
   "cell_type": "code",
   "execution_count": 19,
   "id": "3f74a4bd",
   "metadata": {},
   "outputs": [
    {
     "data": {
      "text/plain": [
       "LinearRegression()"
      ]
     },
     "execution_count": 19,
     "metadata": {},
     "output_type": "execute_result"
    }
   ],
   "source": [
    "regr = linear_model.LinearRegression()\n",
    "ratings = movies.rating.values.reshape(-1, 1)\n",
    "polarities = movies.review_polarity.values.reshape(-1, 1)\n",
    "regr.fit(ratings,polarities)"
   ]
  },
  {
   "cell_type": "code",
   "execution_count": 20,
   "id": "d4e2bf6d",
   "metadata": {},
   "outputs": [
    {
     "data": {
      "image/png": "[encoded data removed]",
      "text/plain": [
       "<Figure size 432x288 with 1 Axes>"
      ]
     },
     "metadata": {},
     "output_type": "display_data"
    }
   ],
   "source": [
    "plt.scatter(ratings, polarities,  color='black')\n",
    "plt.plot(ratings, regr.predict(ratings), color='blue', linewidth=3)\n",
    "plt.xticks(())\n",
    "plt.yticks(())\n",
    "plt.show()"
   ]
  }
 ],
 "metadata": {
  "kernelspec": {
   "display_name": "Python 3 (ipykernel)",
   "language": "python",
   "name": "python3"
  },
  "language_info": {
   "codemirror_mode": {
    "name": "ipython",
    "version": 3
   },
   "file_extension": ".py",
   "mimetype": "text/x-python",
   "name": "python",
   "nbconvert_exporter": "python",
   "pygments_lexer": "ipython3",
   "version": "3.9.7"
  }
 },
 "nbformat": 4,
 "nbformat_minor": 5
}
