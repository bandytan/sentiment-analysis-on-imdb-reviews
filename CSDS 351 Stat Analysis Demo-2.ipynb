{
 "cells": [
  {
   "cell_type": "code",
   "execution_count": 1,
   "id": "c1c919e9",
   "metadata": {},
   "outputs": [],
   "source": [
    "import pandas as pd\n",
    "from scipy import stats\n",
    "from sklearn import datasets, linear_model\n",
    "import matplotlib.pyplot as plt"
   ]
  },
  {
   "cell_type": "markdown",
   "id": "ef4a6465",
   "metadata": {},
   "source": [
    "# Ingestion"
   ]
  },
  {
   "cell_type": "code",
   "execution_count": 2,
   "id": "a208f1c9",
   "metadata": {},
   "outputs": [],
   "source": [
    "movie1_temp = pd.read_csv('movie1.csv')\n",
    "movie2_temp = pd.read_csv('movie2.csv')\n",
    "movie3_temp = pd.read_csv('movie3.csv')"
   ]
  },
  {
   "cell_type": "markdown",
   "id": "11ba090d",
   "metadata": {},
   "source": [
    "# Cleaning"
   ]
  },
  {
   "cell_type": "code",
   "execution_count": 3,
   "id": "2ef5426e",
   "metadata": {},
   "outputs": [],
   "source": [
    "movie1 = movie1_temp[['rating','review_polarity']]\n",
    "movie2 = movie2_temp[['rating','review_polarity']]\n",
    "movie3 = movie3_temp[['rating','review_polarity']]"
   ]
  },
  {
   "cell_type": "code",
   "execution_count": 7,
   "id": "18c9d659",
   "metadata": {},
   "outputs": [],
   "source": [
    "movies = pd.concat([movie1, movie2, movie3], axis = 0)"
   ]
  },
  {
   "cell_type": "markdown",
   "id": "20c72258",
   "metadata": {},
   "source": [
    "# Pearson's Correlation\n",
    "\n",
    "Pearson's Correlation from scipy stats library returns the left value as the Pearson's Coefficient where the closer to 1, the more linearly direct the relationship is and the closer to -1, the more linearly inverse the relationship is.\n",
    "\n",
    "The right value is the 2 tailed p-value which indicates how significant the results are. Under 0.05 is considered significant.\n",
    "\n",
    "The closer the Pearson's value is to 1, the more closely positively related user reviews polarity score and star ratings are."
   ]
  },
  {
   "cell_type": "markdown",
   "id": "52cc69dc",
   "metadata": {},
   "source": [
    "## Movie 1"
   ]
  },
  {
   "cell_type": "code",
   "execution_count": 9,
   "id": "5e411f61",
   "metadata": {},
   "outputs": [
    {
     "data": {
      "text/plain": [
       "(0.4720464720588633, 1.1298761922672464e-41)"
      ]
     },
     "execution_count": 9,
     "metadata": {},
     "output_type": "execute_result"
    }
   ],
   "source": [
    "# (Pearson’s correlation coefficient, 2-tailed p-value)\n",
    "stats.pearsonr(movie1['rating'], movie1['review_polarity'])"
   ]
  },
  {
   "cell_type": "markdown",
   "id": "046bd483",
   "metadata": {},
   "source": [
    "Moderate positive correlation with significant results"
   ]
  },
  {
   "cell_type": "markdown",
   "id": "23597be3",
   "metadata": {},
   "source": [
    "## Movie 2"
   ]
  },
  {
   "cell_type": "code",
   "execution_count": 10,
   "id": "7e3cace8",
   "metadata": {},
   "outputs": [
    {
     "data": {
      "text/plain": [
       "(0.5001949117536175, 1.6778434350525815e-31)"
      ]
     },
     "execution_count": 10,
     "metadata": {},
     "output_type": "execute_result"
    }
   ],
   "source": [
    "# (Pearson’s correlation coefficient, 2-tailed p-value)\n",
    "stats.pearsonr(movie2['rating'], movie2['review_polarity'])"
   ]
  },
  {
   "cell_type": "markdown",
   "id": "1aa80e8c",
   "metadata": {},
   "source": [
    "Moderate positive correlation with significant results."
   ]
  },
  {
   "cell_type": "markdown",
   "id": "adf3d82e",
   "metadata": {},
   "source": [
    "## Movie 3"
   ]
  },
  {
   "cell_type": "code",
   "execution_count": 11,
   "id": "b7efef5e",
   "metadata": {},
   "outputs": [
    {
     "data": {
      "text/plain": [
       "(0.2300576908814342, 2.767647756846108e-18)"
      ]
     },
     "execution_count": 11,
     "metadata": {},
     "output_type": "execute_result"
    }
   ],
   "source": [
    "# (Pearson’s correlation coefficient, 2-tailed p-value)\n",
    "stats.pearsonr(movie3['rating'], movie3['review_polarity'])"
   ]
  },
  {
   "cell_type": "markdown",
   "id": "5eca7268",
   "metadata": {},
   "source": [
    "Weak positive correlation with significant results."
   ]
  },
  {
   "cell_type": "markdown",
   "id": "191975f0",
   "metadata": {},
   "source": [
    "## All Movies Combined\n",
    "Provides an overall analysis of the star ratings relationship with polarity of user reviews"
   ]
  },
  {
   "cell_type": "code",
   "execution_count": 12,
   "id": "4ff8193d",
   "metadata": {},
   "outputs": [
    {
     "data": {
      "text/plain": [
       "(0.38938647047605274, 4.5927373449087166e-95)"
      ]
     },
     "execution_count": 12,
     "metadata": {},
     "output_type": "execute_result"
    }
   ],
   "source": [
    "stats.pearsonr(movies['rating'], movies['review_polarity'])"
   ]
  },
  {
   "cell_type": "markdown",
   "id": "995248e3",
   "metadata": {},
   "source": [
    "Moderate positive correlation with signficant results."
   ]
  }
 ],
 "metadata": {
  "kernelspec": {
   "display_name": "Python 3 (ipykernel)",
   "language": "python",
   "name": "python3"
  },
  "language_info": {
   "codemirror_mode": {
    "name": "ipython",
    "version": 3
   },
   "file_extension": ".py",
   "mimetype": "text/x-python",
   "name": "python",
   "nbconvert_exporter": "python",
   "pygments_lexer": "ipython3",
   "version": "3.9.7"
  }
 },
 "nbformat": 4,
 "nbformat_minor": 5
}
